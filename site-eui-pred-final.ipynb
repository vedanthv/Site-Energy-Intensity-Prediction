{
 "cells": [
  {
   "cell_type": "markdown",
   "metadata": {
    "_cell_guid": "708b6d63-2bb3-42a7-a881-95f794469b26",
    "_uuid": "ae4d3448-0ba8-4fa9-b976-c264cd60b6f2",
    "papermill": {
     "duration": 0.042374,
     "end_time": "2022-03-06T01:11:01.135063",
     "exception": false,
     "start_time": "2022-03-06T01:11:01.092689",
     "status": "completed"
    },
    "tags": []
   },
   "source": [
    "## 🏡 Site Energy UI Prediction \n",
    "\n",
    "<img src = \"https://www.clearias.com/up/energy-efficiency.jpg\">\n",
    "\n",
    "- **Problem Scope**: Using machine learning to predict building energy usage (regression)."
   ]
  },
  {
   "cell_type": "markdown",
   "metadata": {
    "_cell_guid": "01044b3c-bba8-47e2-8e14-4ab907dc0c2c",
    "_uuid": "abea7787-40c7-458b-9616-f101646154df",
    "papermill": {
     "duration": 0.03836,
     "end_time": "2022-03-06T01:11:01.213805",
     "exception": false,
     "start_time": "2022-03-06T01:11:01.175445",
     "status": "completed"
    },
    "tags": []
   },
   "source": [
    "# Abstract\n",
    "\n",
    "> **The project involves predicting a buildings Site Energy Usage Intensity metric, which was the `site_eui` feature in the dataset (regression problem).  To solve this problem, I first separated the dataset into twelve individual datasets based on buildings with similar `site_eui` usage patterns and other characteristics.  I then engineer features, perform leave one group out cross validation, and finally train an ensemble model (XGBoost, LightGBM, and CatBoost regressors) for each dataset on the most powerful features.  My final solution ended up in the top 10% of the final leaderboard.**"
   ]
  },
  {
   "cell_type": "markdown",
   "metadata": {
    "_cell_guid": "ec251e47-8309-4e8b-b936-f7829dd0576a",
    "_uuid": "dce4f743-a3c6-49d6-b110-bd95580c050e",
    "papermill": {
     "duration": 0.043459,
     "end_time": "2022-03-06T01:11:01.298587",
     "exception": false,
     "start_time": "2022-03-06T01:11:01.255128",
     "status": "completed"
    },
    "tags": []
   },
   "source": [
    "# Table of Contents\n",
    "\n",
    "* [Section 1: Notebook Set Up](#Section-1:-Notebook-Set-Up)\n",
    "* [Section 2: Helper Functions](#Section-2:-Helper-Functions)\n",
    "* [Section 3: Data Preprocessing](#Section-3:-Data-Preprocessing)\n",
    "* [Section 4: Feature Engineering](#Section-4:-Feature-Engineering)\n",
    "* [Section 5: Modelling](#Section-5:-Modelling)\n",
    "* [Section 6: Final models and predictions](#Section-6:-Final-models-and-predictions)"
   ]
  },
  {
   "cell_type": "markdown",
   "metadata": {
    "_cell_guid": "58602d4a-a46e-4c66-96bf-e2e68bc8e7ae",
    "_uuid": "1cdb96b6-1643-49a1-8d9c-6a39ddc628e7",
    "papermill": {
     "duration": 0.038627,
     "end_time": "2022-03-06T01:11:01.381023",
     "exception": false,
     "start_time": "2022-03-06T01:11:01.342396",
     "status": "completed"
    },
    "tags": []
   },
   "source": [
    "# Section 1: Notebook Set Up\n",
    "\n",
    "In this section I import the packages that are used throughout my solution and I perform general notebook set up."
   ]
  },
  {
   "cell_type": "markdown",
   "metadata": {
    "_cell_guid": "8a069c36-b957-48c1-a8d8-c481c70bdb74",
    "_uuid": "18d93cb8-1dfd-48ab-a3cf-d20de57aed50",
    "papermill": {
     "duration": 0.037903,
     "end_time": "2022-03-06T01:11:01.459839",
     "exception": false,
     "start_time": "2022-03-06T01:11:01.421936",
     "status": "completed"
    },
    "tags": []
   },
   "source": [
    "## 1.1 Imports"
   ]
  },
  {
   "cell_type": "code",
   "execution_count": 2,
   "metadata": {
    "_cell_guid": "bd305167-9334-451b-b295-1223a072749d",
    "_uuid": "c02fecab-f772-4d62-b8b2-50c15f441e53",
    "collapsed": false,
    "jupyter": {
     "outputs_hidden": false
    },
    "papermill": {
     "duration": 3.374927,
     "end_time": "2022-03-06T01:11:04.872802",
     "exception": false,
     "start_time": "2022-03-06T01:11:01.497875",
     "status": "completed"
    },
    "tags": []
   },
   "outputs": [],
   "source": [
    "import numpy as np\n",
    "import pandas as pd\n",
    "import xgboost as xgb\n",
    "import catboost as cb\n",
    "import lightgbm as lgb\n",
    "import matplotlib.pyplot as plt\n",
    "\n",
    "from copy import deepcopy\n",
    "from collections import defaultdict\n",
    "\n",
    "from sklearn.linear_model import Ridge\n",
    "from sklearn.pipeline import make_pipeline\n",
    "from sklearn.ensemble import VotingRegressor\n",
    "from sklearn.metrics import mean_squared_error\n",
    "from sklearn.compose import make_column_transformer\n",
    "from sklearn.preprocessing import OneHotEncoder, StandardScaler\n",
    "from sklearn.model_selection import RandomizedSearchCV, train_test_split, LeaveOneGroupOut\n",
    "\n",
    "from sklearn.experimental import enable_iterative_imputer\n",
    "from sklearn.impute import IterativeImputer"
   ]
  },
  {
   "cell_type": "markdown",
   "metadata": {
    "_cell_guid": "52b82582-9bd7-499a-a9c1-d07d6a467777",
    "_uuid": "d8447e53-2e47-435a-91ee-c7f232bfe480",
    "papermill": {
     "duration": 0.038633,
     "end_time": "2022-03-06T01:11:04.951001",
     "exception": false,
     "start_time": "2022-03-06T01:11:04.912368",
     "status": "completed"
    },
    "tags": []
   },
   "source": [
    "## 1.2 Global notebook variables"
   ]
  },
  {
   "cell_type": "code",
   "execution_count": 4,
   "metadata": {
    "_cell_guid": "9ab9d269-7a56-4258-bcbb-886c93eec385",
    "_uuid": "5d5166f0-3135-499f-b92c-017645678d92",
    "collapsed": false,
    "jupyter": {
     "outputs_hidden": false
    },
    "papermill": {
     "duration": 0.04619,
     "end_time": "2022-03-06T01:11:05.036198",
     "exception": false,
     "start_time": "2022-03-06T01:11:04.990008",
     "status": "completed"
    },
    "scrolled": true,
    "tags": []
   },
   "outputs": [],
   "source": [
    "TRAIN_PATH = \"train.csv\"\n",
    "TEST_PATH = \"test.csv\"\n",
    "TARGET = \"site_eui\"\n",
    "SCORE = \"neg_root_mean_squared_error\"\n",
    "SEED = 777"
   ]
  },
  {
   "cell_type": "markdown",
   "metadata": {
    "_cell_guid": "0225bea7-0e70-4d53-8aed-9d723b2d6efb",
    "_uuid": "e2887f61-89da-49f0-8936-822606ad5206",
    "papermill": {
     "duration": 0.041034,
     "end_time": "2022-03-06T01:11:05.129908",
     "exception": false,
     "start_time": "2022-03-06T01:11:05.088874",
     "status": "completed"
    },
    "tags": []
   },
   "source": [
    "# Section 2: Helper Functions\n",
    "\n",
    "This section contains several helper functions that are used throughout my notebook.  I have hidden the cell on the Kaggle viewer, as there are several hundreds of lines of code here.  Please feel free to expand it and read the code.  You can also find all of the function organized into scripts on my [GitHub repository](https://github.com/nicovandenhooff/wids-datathon-2022)."
   ]
  },
  {
   "cell_type": "code",
   "execution_count": 5,
   "metadata": {
    "_cell_guid": "8e74e5d0-22dd-4e5a-80ec-c8ec11204e1f",
    "_kg_hide-input": true,
    "_uuid": "7607b715-a49b-441d-bb5c-c822d351e7b1",
    "collapsed": false,
    "jupyter": {
     "outputs_hidden": false
    },
    "papermill": {
     "duration": 0.119702,
     "end_time": "2022-03-06T01:11:05.289166",
     "exception": false,
     "start_time": "2022-03-06T01:11:05.169464",
     "status": "completed"
    },
    "tags": []
   },
   "outputs": [],
   "source": [
    "def read_data(train_path, test_path):\n",
    "\n",
    "    train_df = pd.read_csv(train_path)\n",
    "    test_df = pd.read_csv(test_path)\n",
    "    return train_df, test_df\n",
    "\n",
    "\n",
    "def get_duplicates(df, drop_cols=None):\n",
    "    \"\"\"Determine and return the duplicated values in a dataframe.\n",
    "\n",
    "    Parameters\n",
    "    ----------\n",
    "    df : pandas DataFrame\n",
    "        The dataframe to check\n",
    "    drop_cols : str or list of str, optional\n",
    "        The columns to drop before returning duplicates.\n",
    "\n",
    "    Returns\n",
    "    -------\n",
    "    pandas DataFrame\n",
    "        A dataframe containing the rows with duplicated values.\n",
    "    \"\"\"\n",
    "    if drop_cols is not None:\n",
    "        return df[df.drop(columns=drop_cols).duplicated()]\n",
    "    else:\n",
    "        return df[df.duplicated()]\n",
    "    \n",
    "\n",
    "def remove_duplicates(df, drop_cols=None):\n",
    "    \"\"\"Removes the duplicated values in a dataframe.\n",
    "\n",
    "    Parameters\n",
    "    ----------\n",
    "    df : pandas DataFrame\n",
    "        The dataframe to check\n",
    "    drop_cols : str or list of str, optional\n",
    "        The columns to drop before removing duplicates.\n",
    "    Returns\n",
    "    -------\n",
    "    pandas DataFrame\n",
    "        A dataframe without duplicated.\n",
    "    \"\"\"\n",
    "    df_clean = df.copy()\n",
    "\n",
    "    if drop_cols is not None:\n",
    "        df_clean = df_clean[~df_clean.drop(columns=drop_cols).duplicated()]\n",
    "    else:\n",
    "        df_clean = df_clean[~df_clean.duplicated()]\n",
    "    \n",
    "    return df_clean.reset_index(drop=True)\n",
    "\n",
    "\n",
    "def split_building_data(df, groups):\n",
    "    \"\"\"Splits the WiDS 2022 dataset based on groups of facility types.\n",
    "\n",
    "    Parameters\n",
    "    ----------\n",
    "    df : pandas DataFrame\n",
    "        The WiDS train or test dataset.\n",
    "    groups : dict (key: str, value: set)\n",
    "        The dictionary of facility types.  The key should be the desired group name.\n",
    "        The value should be a set containing the facility types in a given group.\n",
    "\n",
    "    Returns\n",
    "    -------\n",
    "    dfs : dict\n",
    "        A dictionary of pandas DataFrames, one for each group.\n",
    "    \"\"\"\n",
    "    dfs = {}\n",
    "\n",
    "    for name, group in groups.items():\n",
    "        group_df = df.query(\"facility_type in @group\")\n",
    "        dfs[name] = group_df.reset_index(drop=True)\n",
    "\n",
    "    return dfs\n",
    "\n",
    "\n",
    "def get_manual_facility_groups():\n",
    "    \"\"\"Returns the manual facility groups used in my final WiDS solution.\n",
    "\n",
    "    Returns\n",
    "    -------\n",
    "    The dictionary of facility types.\n",
    "        The key is group name (first word in facility type).\n",
    "        The value is a set containing the facility types in a given group.\n",
    "    \"\"\"\n",
    "\n",
    "    facility_groups = {\n",
    "        \"2to4_5plus_Mixed\": {\n",
    "            \"2to4_Unit_Building\",\n",
    "            \"5plus_Unit_Building\",\n",
    "            \"Mixed_Use_Predominantly_Residential\",\n",
    "        },\n",
    "        \"Commercial_Education_Mixed_Industrial_Parking\": {\n",
    "            \"Education_College_or_university\",\n",
    "            \"Education_Other_classroom\",\n",
    "            \"Education_Preschool_or_daycare\",\n",
    "            \"Education_Uncategorized\",\n",
    "            \"Commercial_Other\",\n",
    "            \"Commercial_Unknown\",\n",
    "            \"Mixed_Use_Commercial_and_Residential\",\n",
    "            \"Mixed_Use_Predominantly_Commercial\",\n",
    "            \"Industrial\",\n",
    "            \"Parking_Garage\",\n",
    "        },\n",
    "        \"Food_Grocery\": {\n",
    "            \"Food_Sales\",\n",
    "            \"Food_Service_Other\",\n",
    "            \"Food_Service_Restaurant_or_cafeteria\",\n",
    "            \"Food_Service_Uncategorized\",\n",
    "            \"Grocery_store_or_food_market\",\n",
    "        },\n",
    "        \"Health\": {\n",
    "            \"Health_Care_Inpatient\",\n",
    "            \"Health_Care_Outpatient_Clinic\",\n",
    "            \"Health_Care_Outpatient_Uncategorized\",\n",
    "            \"Health_Care_Uncategorized\",\n",
    "        },\n",
    "        \"Laboratory_Data\": {\"Laboratory\", \"Data_Center\"},\n",
    "        \"Lodging\": {\n",
    "            \"Lodging_Dormitory_or_fraternity_sorority\",\n",
    "            \"Lodging_Hotel\",\n",
    "            \"Lodging_Other\",\n",
    "            \"Lodging_Uncategorized\",\n",
    "        },\n",
    "        \"Multifamily\": {\"Multifamily_Uncategorized\"},\n",
    "        \"Office_Nursing\": {\n",
    "            \"Office_Bank_or_other_financial\",\n",
    "            \"Office_Medical_non_diagnostic\",\n",
    "            \"Office_Mixed_use\",\n",
    "            \"Office_Uncategorized\",\n",
    "            \"Nursing_Home\",\n",
    "        },\n",
    "        \"Public\": {\n",
    "            \"Public_Assembly_Drama_theater\",\n",
    "            \"Public_Assembly_Entertainment_culture\",\n",
    "            \"Public_Assembly_Library\",\n",
    "            \"Public_Assembly_Movie_Theater\",\n",
    "            \"Public_Assembly_Other\",\n",
    "            \"Public_Assembly_Recreation\",\n",
    "            \"Public_Assembly_Social_meeting\",\n",
    "            \"Public_Assembly_Stadium\",\n",
    "            \"Public_Assembly_Uncategorized\",\n",
    "            \"Public_Safety_Courthouse\",\n",
    "            \"Public_Safety_Fire_or_police_station\",\n",
    "            \"Public_Safety_Penitentiary\",\n",
    "            \"Public_Safety_Uncategorized\",\n",
    "        },\n",
    "        \"Religious\": {\"Religious_worship\"},\n",
    "        \"Retail\": {\n",
    "            \"Retail_Enclosed_mall\",\n",
    "            \"Retail_Strip_shopping_mall\",\n",
    "            \"Retail_Uncategorized\",\n",
    "            \"Retail_Vehicle_dealership_showroom\",\n",
    "        },\n",
    "        \"Warehouse_Service\": {\n",
    "            \"Warehouse_Distribution_or_Shipping_center\",\n",
    "            \"Warehouse_Nonrefrigerated\",\n",
    "            \"Warehouse_Refrigerated\",\n",
    "            \"Warehouse_Selfstorage\",\n",
    "            \"Warehouse_Uncategorized\",\n",
    "            \"Service_Drycleaning_or_Laundry\",\n",
    "            \"Service_Uncategorized\",\n",
    "            \"Service_Vehicle_service_repair_shop\",\n",
    "        },\n",
    "    }\n",
    "\n",
    "    return facility_groups\n",
    "\n",
    "\n",
    "def count_missing(df):\n",
    "    \"\"\"Counts the missing data in a dataframe.\n",
    "\n",
    "    Parameters\n",
    "    ----------\n",
    "    df : pandas DataFrame\n",
    "        The dataframe to count the missing data in.\n",
    "\n",
    "    Returns\n",
    "    -------\n",
    "    pandas DataFrame\n",
    "        A summary of missing data (counts and %)\n",
    "    \"\"\"\n",
    "    missing_df = pd.DataFrame(\n",
    "        df.isna().sum().sort_values(ascending=False), columns=[\"count\"]\n",
    "    )\n",
    "    missing_df[\"percent\"] = missing_df[\"count\"] / df.shape[0]\n",
    "    return missing_df.query(\"count != 0\")\n",
    "\n",
    "\n",
    "def iterative_impute(train_df, test_df, model, ct, target, feat_names, seed):\n",
    "    \"\"\"Imputes missing data into train and test datasets with a ML model of choice.\n",
    "\n",
    "    Parameters\n",
    "    ----------\n",
    "    train_df : pandas DataFrame\n",
    "        The training dataset\n",
    "    test_df : pandas DataFrame\n",
    "        The test dataset\n",
    "    model : sklearn estimator\n",
    "        The machine learning model to use for imputation\n",
    "    ct : sklearn ColumnTransformer\n",
    "        The column transformer to perform on the dataset\n",
    "    target : str\n",
    "        The target variable (removed before imputation)\n",
    "    feat_names : list\n",
    "        Names of features to append to OHE features from column transformer.\n",
    "    seed : int\n",
    "        The random seed for imputation.\n",
    "\n",
    "    Returns\n",
    "    -------\n",
    "    train_imp, test_imp\n",
    "        Train and test datasets with imputed values.\n",
    "    \"\"\"\n",
    "    train_imp = ct.fit_transform(train_df.drop(columns=[target]))\n",
    "    test_imp = ct.transform(test_df)\n",
    "\n",
    "    imputer = IterativeImputer(estimator=model, random_state=seed)\n",
    "\n",
    "    cols = (\n",
    "        ct.named_transformers_[\"onehotencoder\"].get_feature_names().tolist()\n",
    "        + feat_names\n",
    "    )\n",
    "\n",
    "    train_imp = pd.DataFrame(imputer.fit_transform(train_imp), columns=cols)\n",
    "    test_imp = pd.DataFrame(imputer.transform(test_imp), columns=cols)\n",
    "\n",
    "    return train_imp, test_imp\n",
    "\n",
    "\n",
    "def replace_columns(df, df_imp, columns):\n",
    "    \"\"\"Replace columns in a dataframe with columns from another.\n",
    "\n",
    "    Parameters\n",
    "    ----------\n",
    "    df : pandas DataFrame\n",
    "        The original dataframe.\n",
    "    df_imp : pandas DataFrame\n",
    "        The imputed dataframe.\n",
    "    columns : str or list of str\n",
    "        The columns to replace between dataframes.\n",
    "\n",
    "    Returns\n",
    "    -------\n",
    "    df_replaced : pandas DataFrame\n",
    "        Dataframe with replaced columns.\n",
    "        \n",
    "    \"\"\"\n",
    "    df_replaced = df.copy()\n",
    "\n",
    "    for col in columns:\n",
    "        df_replaced[col] = df_imp[col]\n",
    "\n",
    "    return df_replaced\n",
    "\n",
    "\n",
    "def impute_and_replace(\n",
    "    train_dfs, test_dfs, model, ct, target, feat_names, replace, seed\n",
    "):\n",
    "    \"\"\"\n",
    "    Iteratively impute multiple dataframes. \n",
    "    \n",
    "    \"\"\"\n",
    "    train_dfs_imp = {}\n",
    "    test_dfs_imp = {}\n",
    "\n",
    "    # iterative imputation\n",
    "    for (name1, train_df), (name2, test_df) in zip(train_dfs.items(), test_dfs.items()):\n",
    "        train_imp, test_imp = iterative_impute(\n",
    "            train_df, test_df, model, ct, target, feat_names, seed\n",
    "        )\n",
    "        train_dfs_imp[name1] = train_imp\n",
    "        test_dfs_imp[name1] = test_imp\n",
    "\n",
    "    # replace train columns with missing values\n",
    "    for (name1, df), (name2, imp_df) in zip(train_dfs.items(), train_dfs_imp.items()):\n",
    "        train_dfs[name1] = replace_columns(df, imp_df, replace)\n",
    "\n",
    "    # replace test columns with missing values\n",
    "    for (name1, df), (name2, imp_df) in zip(test_dfs.items(), test_dfs_imp.items()):\n",
    "        test_dfs[name1] = replace_columns(df, imp_df, replace)\n",
    "\n",
    "    return train_dfs, test_dfs\n",
    "\n",
    "\n",
    "def has_feature(df, feat):\n",
    "    \"\"\"Adds a boolean feature if a feature exists or now\"\"\"\n",
    "    return df[feat].notna().astype(int)\n",
    "\n",
    "\n",
    "def group_by_feature(train_df, test_df, group, agg_feat, transform, name):\n",
    "    \"\"\"Adds a new aggregated feature based on a categorical variable\"\"\"\n",
    "    train_df_new = train_df.copy()\n",
    "    test_df_new = test_df.copy()\n",
    "    \n",
    "    fill_values = train_df_new.groupby(group).aggregate(transform)[agg_feat].to_dict()\n",
    "    \n",
    "    train_df_new[name] = train_df_new[group].map(fill_values)\n",
    "    test_df_new[name] = test_df_new[group].map(fill_values)\n",
    "    \n",
    "    return train_df_new, test_df_new\n",
    "\n",
    "\n",
    "def bin_days_below_above(df):\n",
    "    \"\"\"Bins the days below and above features into 4 bins\"\"\"\n",
    "    df_eng = df.copy()\n",
    "    \n",
    "    df_eng[\"freezing_days\"] = df_eng['days_below_0F'] + df_eng['days_below_10F']\n",
    "    df_eng[\"cold_days\"] = df_eng['days_below_20F'] + df_eng['days_below_30F']\n",
    "    df_eng[\"warm_days\"] = df_eng['days_above_80F'] + df_eng['days_above_90F']\n",
    "    df_eng[\"hot_days\"] = df_eng['days_above_100F'] + df_eng['days_above_110F']\n",
    "    \n",
    "    return df_eng\n",
    "\n",
    "\n",
    "def seasonal_temps(df, stat):\n",
    "    \"\"\"Add seasonal temps for a given stat (e.g. \"avg_temp\")\"\"\"\n",
    "    df_eng = df.copy()\n",
    "\n",
    "    df_eng[f\"winter_{stat}\"] = (\n",
    "        df_eng[f\"december_{stat}\"]\n",
    "        + df_eng[f\"january_{stat}\"]\n",
    "        + df_eng[f\"february_{stat}\"]\n",
    "    ) / 3\n",
    "\n",
    "    df_eng[f\"spring_{stat}\"] = (\n",
    "        df_eng[f\"march_{stat}\"] + df_eng[f\"april_{stat}\"] + df_eng[f\"june_{stat}\"]\n",
    "    ) / 3\n",
    "\n",
    "    df_eng[f\"summer_{stat}\"] = (\n",
    "        df_eng[f\"june_{stat}\"] + df_eng[f\"july_{stat}\"] + df_eng[f\"august_{stat}\"]\n",
    "    ) / 3\n",
    "    \n",
    "    df_eng[f\"autumn_{stat}\"] = (\n",
    "        df_eng[f\"september_{stat}\"]\n",
    "        + df_eng[f\"october_{stat}\"]\n",
    "        + df_eng[f\"november_{stat}\"]\n",
    "    ) / 3\n",
    "\n",
    "    return df_eng\n",
    "\n",
    "\n",
    "def feature_engineer(train_df, test_df):\n",
    "    \n",
    "    train_df_eng = train_df.copy()\n",
    "    test_df_eng = test_df.copy()\n",
    "\n",
    "    # whether or not a building has a fog detector\n",
    "    train_df_eng[\"has_fog_detector\"] = has_feature(train_df_eng, \"days_with_fog\")\n",
    "    test_df_eng[\"has_fog_detector\"] = has_feature(test_df_eng, \"days_with_fog\")\n",
    "\n",
    "    # whether or not a building has a wind detector\n",
    "    train_df_eng[\"has_wind_detector\"] = has_feature(train_df_eng, \"max_wind_speed\")\n",
    "    test_df_eng[\"has_wind_detector\"] = has_feature(test_df_eng, \"max_wind_speed\")\n",
    "\n",
    "    # bin days above/below temperature\n",
    "    train_df_eng = bin_days_below_above(train_df_eng)\n",
    "    test_df_eng = bin_days_below_above(test_df_eng)\n",
    "\n",
    "    # seasonal avg temps\n",
    "    train_df_eng = seasonal_temps(train_df_eng, \"avg_temp\")\n",
    "    test_df_eng = seasonal_temps(test_df_eng, \"avg_temp\")\n",
    "\n",
    "    # aggregate features\n",
    "    agg_feats = [\"energy_star_rating\", \"floor_area\", \"ELEVATION\"]\n",
    "\n",
    "    for agg_feat in agg_feats:\n",
    "        name = \"mean_\" + agg_feat\n",
    "        train_df_eng, test_df_eng = group_by_feature(\n",
    "            train_df_eng, test_df_eng, \"facility_type\", agg_feat, \"mean\", name\n",
    "        )\n",
    "\n",
    "    # whether or not energy star is better than mean for facility\n",
    "    train_df_eng[\"e_star_better_than_mean\"] = (\n",
    "        train_df_eng[\"energy_star_rating\"] > train_df_eng[\"mean_energy_star_rating\"]\n",
    "    ).astype(int)\n",
    "    test_df_eng[\"e_star_better_than_mean\"] = (\n",
    "        test_df_eng[\"energy_star_rating\"] > test_df_eng[\"mean_energy_star_rating\"]\n",
    "    ).astype(int)\n",
    "\n",
    "    # total snow and rain\n",
    "    train_df_eng[\"snow_rain_inches\"] = (\n",
    "        train_df_eng[\"snowfall_inches\"] + train_df_eng[\"precipitation_inches\"]\n",
    "    )\n",
    "    test_df_eng[\"snow_rain_inches\"] = (\n",
    "        test_df_eng[\"snowfall_inches\"] + test_df_eng[\"precipitation_inches\"]\n",
    "    )\n",
    "\n",
    "    # total degree days\n",
    "    train_df_eng[\"degree_days\"] = (\n",
    "        train_df_eng[\"cooling_degree_days\"] + train_df_eng[\"heating_degree_days\"]\n",
    "    )\n",
    "    test_df_eng[\"degree_days\"] = (\n",
    "        test_df_eng[\"cooling_degree_days\"] + test_df_eng[\"heating_degree_days\"]\n",
    "    )\n",
    "\n",
    "    # floor area interaction with e-star\n",
    "    train_df_eng[\"e_star_floor_area\"] = (\n",
    "        train_df_eng[\"floor_area\"] * train_df_eng[\"energy_star_rating\"] + 1\n",
    "    )\n",
    "    test_df_eng[\"e_star_floor_area\"] = (\n",
    "        test_df_eng[\"floor_area\"] * test_df_eng[\"energy_star_rating\"] + 1\n",
    "    )\n",
    "\n",
    "    # elevation interaction with e-star\n",
    "    train_df_eng[\"e_star_elevation\"] = (\n",
    "        train_df_eng[\"ELEVATION\"] * train_df_eng[\"energy_star_rating\"] + 1\n",
    "    )\n",
    "    test_df_eng[\"e_star_elevation\"] = (\n",
    "        test_df_eng[\"ELEVATION\"] * test_df_eng[\"energy_star_rating\"] + 1\n",
    "    )\n",
    "\n",
    "    # year_built interaction with e-star\n",
    "    train_df_eng[\"e_star_year_built\"] = (\n",
    "        train_df_eng[\"year_built\"] * train_df_eng[\"energy_star_rating\"] + 1\n",
    "    )\n",
    "    test_df_eng[\"e_star_year_built\"] = (\n",
    "        test_df_eng[\"year_built\"] * test_df_eng[\"energy_star_rating\"] + 1\n",
    "    )\n",
    "\n",
    "    # cooling degree days interaction with energy star\n",
    "    train_df_eng[\"cooling_e_star\"] = (\n",
    "        train_df_eng[\"cooling_degree_days\"] * train_df_eng[\"energy_star_rating\"] + 1\n",
    "    )\n",
    "    test_df_eng[\"cooling_e_star\"] = (\n",
    "        test_df_eng[\"cooling_degree_days\"] * test_df_eng[\"energy_star_rating\"] + 1\n",
    "    )\n",
    "\n",
    "    # heating degree days interaction with energy star\n",
    "    train_df_eng[\"heating_e_star\"] = (\n",
    "        train_df_eng[\"heating_degree_days\"] * train_df_eng[\"energy_star_rating\"] + 1\n",
    "    )\n",
    "    test_df_eng[\"heating_e_star\"] = (\n",
    "        test_df_eng[\"heating_degree_days\"] * test_df_eng[\"energy_star_rating\"] + 1\n",
    "    )\n",
    "\n",
    "    # floor area interaction with year built\n",
    "    train_df_eng[\"floor_area_year_built\"] = (\n",
    "        train_df_eng[\"floor_area\"] * train_df_eng[\"year_built\"] + 1\n",
    "    )\n",
    "    test_df_eng[\"floor_area_year_built\"] = (\n",
    "        test_df_eng[\"floor_area\"] * test_df_eng[\"year_built\"] + 1\n",
    "    )\n",
    "\n",
    "    # concatenated state and facility type and floor area\n",
    "    train_df_eng[\"facility_floor\"] = (\n",
    "        train_df_eng[\"facility_type\"] + \"_\" + train_df_eng[\"floor_area\"].astype(str)\n",
    "    )\n",
    "    test_df_eng[\"facility_floor\"] = (\n",
    "        test_df_eng[\"facility_type\"] + \"_\" + test_df_eng[\"floor_area\"].astype(str)\n",
    "    )\n",
    "\n",
    "    # concatenated state, facility, year built\n",
    "    train_df_eng[\"facility_year\"] = train_df_eng[\"facility_type\"] + train_df_eng[\n",
    "        \"year_built\"\n",
    "    ].astype(str)\n",
    "    test_df_eng[\"facility_year\"] = test_df_eng[\"facility_type\"] + test_df_eng[\n",
    "        \"year_built\"\n",
    "    ].astype(str)\n",
    "\n",
    "    # concatenated state and facility type and floor area and year\n",
    "    train_df_eng[\"facility_floor_year\"] = (\n",
    "        train_df_eng[\"facility_floor\"] + \"_\" + train_df_eng[\"year_built\"].astype(str)\n",
    "    )\n",
    "    test_df_eng[\"facility_floor_year\"] = (\n",
    "        test_df_eng[\"facility_floor\"] + \"_\" + test_df_eng[\"year_built\"].astype(str)\n",
    "    )\n",
    "\n",
    "    # grouped mean site_eui\n",
    "    groups = [\"facility_floor\", \"facility_year\", \"facility_floor_year\"]\n",
    "\n",
    "    for group in groups:\n",
    "        name = \"median_\" + group + \"_site_eui\"\n",
    "        train_df_eng, test_df_eng = group_by_feature(\n",
    "            train_df_eng, test_df_eng, group, \"site_eui\", \"median\", name\n",
    "        )\n",
    "\n",
    "    return train_df_eng, test_df_eng\n",
    "\n",
    "# For each of the 12 small datasets apply the feature engineering functions\n",
    "def feature_engineer_multiple(train_dfs, test_dfs):\n",
    "    \"\"\"Feature engineer multiple dataframes at once\"\"\"\n",
    "    train_dfs_eng = {}\n",
    "    test_dfs_eng = {}\n",
    "\n",
    "    for (name1, train_df), (name2, test_df) in zip(train_dfs.items(), test_dfs.items()):\n",
    "        assert name1 == name2\n",
    "        train_dfs_eng[name1], test_dfs_eng[name2] = feature_engineer(train_df, test_df)\n",
    "\n",
    "    return train_dfs_eng, test_dfs_eng\n",
    "\n",
    "\n",
    "def create_X_y(dfs, target, group_col=None):\n",
    "    \n",
    "    X_dfs = {}\n",
    "    y_dfs = {}\n",
    "    groups = {}\n",
    "\n",
    "    for name, df in dfs.items():\n",
    "        X_dfs[name] = df.drop(columns=target)\n",
    "        y_dfs[name] = df[target]\n",
    "\n",
    "        if group_col is not None:\n",
    "            groups[name] = df[group_col]\n",
    "\n",
    "    if group_col is not None:\n",
    "        return X_dfs, y_dfs, groups\n",
    "    else:\n",
    "        return X_dfs, y_dfs\n",
    "    \n",
    "    \n",
    "def get_ct_feat_names(ct, other_names):\n",
    "    \"\"\"Get the feature names from a ColumnTrasformer and combine\n",
    "    with other feature names.\n",
    "\n",
    "    \"\"\"\n",
    "    names = []\n",
    "    names += other_names\n",
    "    return names\n",
    "\n",
    "\n",
    "def logo_cv_lgb(\n",
    "    model, X, y, groups, ct, early_stopping_rounds, return_models=True, other_names=None\n",
    "):\n",
    "    \"\"\"Custom cross validation function.\n",
    "\n",
    "    Parameters\n",
    "    ----------\n",
    "    model : lightGBM regressor\n",
    "        The lgbm regressor model to perform cv with.\n",
    "    X : pandas DataFrame\n",
    "        X train set.\n",
    "    y : pandas DataFrame\n",
    "        y train set.\n",
    "    groups : pandas DataFrame\n",
    "        The leave one group out cv groups.\n",
    "    ct : sklearn ColumnTransformer\n",
    "        The column transformer for the dataset.\n",
    "    early_stopping_rounds : int\n",
    "        The number of early stopping rounds for lightGBM\n",
    "    return_models : bool, optional\n",
    "        Whether or not to return the indivdual lightGBM models, by default True\n",
    "    other_names : list of str, optional\n",
    "        Other feature names to append to CT names, by default None\n",
    "\n",
    "    Returns\n",
    "    -------\n",
    "    results, models : pandas DataFrame, dict\n",
    "        Results dataframe and dictionary of lgbm models.\n",
    "    \"\"\"\n",
    "\n",
    "    models = []\n",
    "    results = []\n",
    "    train_scores = []\n",
    "    val_scores = []\n",
    "    fold = 0\n",
    "    logo = LeaveOneGroupOut()\n",
    "\n",
    "    for t, v in logo.split(X, groups=groups):\n",
    "        fold += 1\n",
    "\n",
    "        # to avoid lightgbm not saving new fit model (weird??? might be bug in lgb...)\n",
    "        current_model = deepcopy(model)\n",
    "\n",
    "        # train and val sets for current fold\n",
    "        X_train, y_train = X.iloc[t], y.iloc[t]\n",
    "        X_val, y_val = X.iloc[v], y.iloc[v]\n",
    "\n",
    "        # year factors for current folds\n",
    "        X_train_yf = np.sort(X_train[\"Year_Factor\"].unique())\n",
    "        X_val_yf = X_val[\"Year_Factor\"].unique()\n",
    "\n",
    "        # transform train and val sets\n",
    "        X_train_tsf = ct.fit_transform(X_train)\n",
    "        X_val_tsf = ct.transform(X_val)\n",
    "\n",
    "        if other_names is None:\n",
    "            feature_names = ct.get_feature_names()\n",
    "        else:\n",
    "            feature_names = get_ct_feat_names(ct, other_names)\n",
    "\n",
    "        # fit and score model w/ early stopping\n",
    "        current_model.fit(\n",
    "            X_train_tsf,\n",
    "            y_train,\n",
    "            eval_set=[(X_val_tsf, y_val)],\n",
    "            eval_metric=[\"rmse\"],\n",
    "            feature_name=feature_names,\n",
    "            callbacks=[lgb.early_stopping(early_stopping_rounds, verbose=False)],\n",
    "        )\n",
    "\n",
    "        # train/val rmse scores\n",
    "        train_rmse = mean_squared_error(\n",
    "            y_true=y_train, y_pred=current_model.predict(X_train_tsf), squared=False\n",
    "        )\n",
    "\n",
    "        val_rmse = current_model.best_score_[\"valid_0\"][\"rmse\"]\n",
    "\n",
    "        fold_results = {\n",
    "            \"Fold\": fold,\n",
    "            \"Train_shape\": X_train_tsf.shape,\n",
    "            \"Val_shape\": X_val_tsf.shape,\n",
    "            \"Train_years\": X_train_yf,\n",
    "            \"Val_years\": X_val_yf,\n",
    "            \"Train_RMSE\": train_rmse,\n",
    "            \"Val_RMSE\": val_rmse,\n",
    "            \"RMSE_spread\": train_rmse - val_rmse,\n",
    "        }\n",
    "\n",
    "        results.append(fold_results)\n",
    "        train_scores.append(train_rmse)\n",
    "        val_scores.append(val_rmse)\n",
    "        models.append(current_model)\n",
    "\n",
    "    # mean validation score\n",
    "    results.append(\n",
    "        {\n",
    "            \"Fold\": \"MEAN\",\n",
    "            \"Train_shape\": \"N/A\",\n",
    "            \"Val_shape\": \"N/A\",\n",
    "            \"Train_years\": \"N/A\",\n",
    "            \"Val_years\": \"N/A\",\n",
    "            \"Train_RMSE\": np.mean(train_scores),\n",
    "            \"Val_RMSE\": np.mean(val_scores),\n",
    "            \"RMSE_spread\": np.mean(train_scores) - np.mean(val_scores),\n",
    "        }\n",
    "    )\n",
    "\n",
    "    results = pd.DataFrame(results)\n",
    "\n",
    "    if return_models:\n",
    "        return results, models\n",
    "    else:\n",
    "        return results\n",
    "    \n",
    "    \n",
    "def logo_cv_lgb_all(\n",
    "    model,\n",
    "    X_trains,\n",
    "    y_trains,\n",
    "    groups,\n",
    "    ct,\n",
    "    early_stopping_rounds,\n",
    "    return_models=True,\n",
    "    other_names=None,\n",
    "):\n",
    "    \"\"\"Performs CV for each dataset\"\"\"\n",
    "    results = {}\n",
    "    models = {}\n",
    "\n",
    "    for (n1, X), (n2, y), (n3, group) in zip(\n",
    "        X_trains.items(), y_trains.items(), groups.items()\n",
    "    ):\n",
    "        assert n1 == n2 == n3\n",
    "        results[n1], models[n1] = logo_cv_lgb(\n",
    "            model, X, y, group, ct, early_stopping_rounds, return_models, other_names\n",
    "        )\n",
    "\n",
    "    return results, models\n",
    "\n",
    "\n",
    "def process_cv_results(results):\n",
    "    \"\"\"Process cv results for multiple datasets into one dataframe\"\"\"\n",
    "    results_df = pd.DataFrame()\n",
    "\n",
    "    for name, result in results.items():\n",
    "        result.insert(0, \"facility_group\", name)\n",
    "        results_df = pd.concat([results_df, result])\n",
    "\n",
    "    return results_df\n",
    "\n",
    "\n",
    "def train_and_predict(model, X_trains, y_trains, X_tests, ct, target):\n",
    "    \"\"\"Train final WiDS models and get predictions.\n",
    "\n",
    "    Parameters\n",
    "    ----------\n",
    "    model : sklearn estimator\n",
    "        The model to train and predict.\n",
    "    X_trains : dict\n",
    "        Dictionary of X train sets.\n",
    "    y_trains : dict\n",
    "        Dictionary of y train sets.\n",
    "    X_tests : dict\n",
    "        Dictionary of X test sets.\n",
    "    ct : sklearn ColumnTransformer\n",
    "        Column transformer with tranformations to perform on data.\n",
    "    target : str\n",
    "        The target variable.\n",
    "\n",
    "    Returns\n",
    "    -------\n",
    "    predictions : pandas DataFrame\n",
    "        Dataframe containing the final predictions.\n",
    "    \"\"\"\n",
    "    predictions = pd.DataFrame()\n",
    "\n",
    "    for (n1, X_train), (n2, y_train), (n3, X_test) in zip(\n",
    "        X_trains.items(), y_trains.items(), X_tests.items()\n",
    "    ):\n",
    "        assert n1 == n2 == n3\n",
    "\n",
    "        current_model = deepcopy(model)\n",
    "        pipe = make_pipeline(ct, current_model)\n",
    "\n",
    "        pipe.fit(X_train, y_train)\n",
    "\n",
    "        pred = {\"id\": X_test[\"id\"], target: pipe.predict(X_test)}\n",
    "\n",
    "        predictions = pd.concat([predictions, pd.DataFrame(pred)])\n",
    "\n",
    "    predictions = predictions.sort_values(\"id\")\n",
    "\n",
    "    return predictions"
   ]
  },
  {
   "cell_type": "markdown",
   "metadata": {
    "_cell_guid": "f9569325-f97a-48e4-a57c-76949e452f91",
    "_uuid": "a6e08e11-ea05-431a-9778-8f8059922ae6",
    "papermill": {
     "duration": 0.038718,
     "end_time": "2022-03-06T01:11:05.367029",
     "exception": false,
     "start_time": "2022-03-06T01:11:05.328311",
     "status": "completed"
    },
    "tags": []
   },
   "source": [
    "# Section 3: Data Preprocessing\n",
    "\n",
    "In this section I preprocess the dataset used in the project, which includes:\n",
    "- Reading in the data.\n",
    "- Dealing with duplicated data.\n",
    "- Creating separate datasets based on building facility type.\n",
    "- Dealing with missing data."
   ]
  },
  {
   "cell_type": "markdown",
   "metadata": {
    "_cell_guid": "d795f319-0a2f-4c4c-b8b4-b3d344905595",
    "_uuid": "209a0f84-b739-49e4-b07b-eed95de11fb6",
    "papermill": {
     "duration": 0.042393,
     "end_time": "2022-03-06T01:11:05.450284",
     "exception": false,
     "start_time": "2022-03-06T01:11:05.407891",
     "status": "completed"
    },
    "tags": []
   },
   "source": [
    "## 3.1 Reading in Datasets"
   ]
  },
  {
   "cell_type": "code",
   "execution_count": 6,
   "metadata": {
    "_cell_guid": "6d4e2bf9-228a-48dc-b2d8-6c6343306be0",
    "_uuid": "009d8569-4b96-4cc1-89ef-61e21fd8f692",
    "collapsed": false,
    "jupyter": {
     "outputs_hidden": false
    },
    "papermill": {
     "duration": 1.256828,
     "end_time": "2022-03-06T01:11:06.749808",
     "exception": false,
     "start_time": "2022-03-06T01:11:05.492980",
     "status": "completed"
    },
    "tags": []
   },
   "outputs": [],
   "source": [
    "train, test = read_data(TRAIN_PATH, TEST_PATH)"
   ]
  },
  {
   "cell_type": "code",
   "execution_count": 7,
   "metadata": {
    "_cell_guid": "39162e6a-f8b5-48b4-84ee-e8f66996137a",
    "_uuid": "b8185bcc-705a-480c-af34-1a7bfc9ddf3e",
    "collapsed": false,
    "jupyter": {
     "outputs_hidden": false
    },
    "papermill": {
     "duration": 0.076596,
     "end_time": "2022-03-06T01:11:06.891262",
     "exception": false,
     "start_time": "2022-03-06T01:11:06.814666",
     "status": "completed"
    },
    "tags": []
   },
   "outputs": [
    {
     "data": {
      "text/plain": [
       "(75757, 64)"
      ]
     },
     "execution_count": 7,
     "metadata": {},
     "output_type": "execute_result"
    }
   ],
   "source": [
    "train.shape"
   ]
  },
  {
   "cell_type": "code",
   "execution_count": 8,
   "metadata": {
    "_cell_guid": "5874fca3-bf5c-4591-855c-24497fa2d74c",
    "_uuid": "8afb0b3a-491d-46f7-a358-9e44be4bd599",
    "collapsed": false,
    "jupyter": {
     "outputs_hidden": false
    },
    "papermill": {
     "duration": 0.076399,
     "end_time": "2022-03-06T01:11:07.031280",
     "exception": false,
     "start_time": "2022-03-06T01:11:06.954881",
     "status": "completed"
    },
    "tags": []
   },
   "outputs": [
    {
     "data": {
      "text/plain": [
       "(9705, 63)"
      ]
     },
     "execution_count": 8,
     "metadata": {},
     "output_type": "execute_result"
    }
   ],
   "source": [
    "test.shape"
   ]
  },
  {
   "cell_type": "markdown",
   "metadata": {
    "_cell_guid": "41b8aa41-1cba-4c17-aef8-7fb9424493e4",
    "_uuid": "abecc3e3-e3ff-4986-9bb1-255622700063",
    "papermill": {
     "duration": 0.04842,
     "end_time": "2022-03-06T01:11:07.143915",
     "exception": false,
     "start_time": "2022-03-06T01:11:07.095495",
     "status": "completed"
    },
    "tags": []
   },
   "source": [
    "## 3.2 Duplicated Data\n",
    "\n",
    "In this section I deal with the duplicated data in the dataset:\n",
    "\n",
    "- We will see that there are 39 duplicated buildings in the train set, and 5 duplicated buildings in the test set\n",
    "- As the train set has 75k+ rows, I removed the duplicated buildings in the train set\n",
    "- I just left the duplicated buildings for the test set as is (removing them would break the final predictions for submission)"
   ]
  },
  {
   "cell_type": "code",
   "execution_count": 9,
   "metadata": {
    "_cell_guid": "5f3d4b90-a180-47c5-baf4-bc03d35332b3",
    "_uuid": "503721e4-0850-4aa0-83d1-78f39a3cb508",
    "collapsed": false,
    "jupyter": {
     "outputs_hidden": false
    },
    "papermill": {
     "duration": 0.19721,
     "end_time": "2022-03-06T01:11:07.381095",
     "exception": false,
     "start_time": "2022-03-06T01:11:07.183885",
     "status": "completed"
    },
    "tags": []
   },
   "outputs": [],
   "source": [
    "train_duplicates = get_duplicates(train, [\"id\"])\n",
    "test_duplicates = get_duplicates(test, [\"id\"])"
   ]
  },
  {
   "cell_type": "code",
   "execution_count": 10,
   "metadata": {
    "_cell_guid": "1a4d4c39-9573-4cf1-b570-dbc07aa39974",
    "_kg_hide-input": true,
    "_uuid": "fd5fe020-1dd5-4154-92bd-e50cbe3e8245",
    "collapsed": false,
    "jupyter": {
     "outputs_hidden": false
    },
    "papermill": {
     "duration": 0.048983,
     "end_time": "2022-03-06T01:11:07.469785",
     "exception": false,
     "start_time": "2022-03-06T01:11:07.420802",
     "status": "completed"
    },
    "tags": []
   },
   "outputs": [
    {
     "name": "stdout",
     "output_type": "stream",
     "text": [
      "There are 39 duplicates in the train set\n",
      "There are 5 duplicates in the train set\n"
     ]
    }
   ],
   "source": [
    "print(f\"There are {train_duplicates.shape[0]} duplicates in the train set\")\n",
    "print(f\"There are {test_duplicates.shape[0]} duplicates in the train set\")"
   ]
  },
  {
   "cell_type": "code",
   "execution_count": 11,
   "metadata": {
    "_cell_guid": "b160cc74-7398-4455-ba87-00c13ec18714",
    "_uuid": "573ac2ea-17a0-4e49-be31-9f3cb3197658",
    "collapsed": false,
    "jupyter": {
     "outputs_hidden": false
    },
    "papermill": {
     "duration": 0.199464,
     "end_time": "2022-03-06T01:11:07.708803",
     "exception": false,
     "start_time": "2022-03-06T01:11:07.509339",
     "status": "completed"
    },
    "tags": []
   },
   "outputs": [],
   "source": [
    "train = remove_duplicates(train, [\"id\"])"
   ]
  },
  {
   "cell_type": "markdown",
   "metadata": {
    "_cell_guid": "ae74b986-f210-4eae-abce-ec935ba54523",
    "_uuid": "04fd5578-d0f2-40b2-90bf-33e8a9c4e2ae",
    "papermill": {
     "duration": 0.043527,
     "end_time": "2022-03-06T01:11:07.792105",
     "exception": false,
     "start_time": "2022-03-06T01:11:07.748578",
     "status": "completed"
    },
    "tags": []
   },
   "source": [
    "## 3.3 Create Individual Datasets Based on Facility Types\n",
    "\n",
    "In this section I split the datasets into 12 individual ones based on facility types with similar `site_eui` characteristics.\n",
    "\n",
    "**Why I did this:**\n",
    "- In this project, facility type was a feature that described what kind of facility a building was, and there were 60 total types.\n",
    "- When I was doing exploratory data analysis, I noticed that there were an uneven number of facilities of different types.\n",
    "- For example, there were 40k Multifamily buildings in the dataset, while other facility types such as Industrial only had a few hundred (or even less).\n",
    "- Further, the distribution of site energy usage for different facility types was drastically different than others, and certain feature distributions were different as well.\n",
    "- Therefore, it intuitively did not make sense to me to just train one machine learning model, since for example, how could a model trained with a significant portion of the data being related to Multifamily homes, make accurate predictions on other types where there was only 100 examples?\n",
    "- So my idea behind this was to create smaller datasets of similar buildings that had similar energy usage patterns and feature distributions, and then to use these to train individual machine learning models on each dataset, with the ultimate goal of getting more accurate predictions overall in the end.\n",
    "\n",
    "**How I did it:**\n",
    "- In developing the individual datasets I tried a bunch of things, including:\n",
    "    1. Naively grouping buildings based on the first word in their facility type, for example the types `Food_Sales` and `Food_Sales_Other` were grouped together in a dataset called `Food`.\n",
    "    2. Using KMeans clustering to cluster similar buildings together, and then group the buildings based on cluster labels.\n",
    "    3. Manually grouping buildings based on exploratory data analysis and iterating to optmize the Kaggle score\n",
    "\n",
    "**What worked best:**\n",
    "- After reading a few papers, my intuition was that the clustering approach would be the best, however, it turned out that the manual grouping approach resulted in the lowest scoring notebook, and that the clustering approach resulted in poor scores.\n",
    "- In my final solution, I separate the train and test datasets into 12 individual data sets (each).\n",
    "- You can see the exact groups of facility types that I used by reading the `get_manual_facility_groups` function in [Section 2](#Section-2:-Helper-Functions) of this notebook."
   ]
  },
  {
   "cell_type": "code",
   "execution_count": 12,
   "metadata": {
    "_cell_guid": "691d3b39-829d-46d1-8b90-74dafb7f16af",
    "_uuid": "83e829e3-7267-47e8-a62a-6145551fd42e",
    "collapsed": false,
    "jupyter": {
     "outputs_hidden": false
    },
    "papermill": {
     "duration": 0.05257,
     "end_time": "2022-03-06T01:11:07.890377",
     "exception": false,
     "start_time": "2022-03-06T01:11:07.837807",
     "status": "completed"
    },
    "tags": []
   },
   "outputs": [],
   "source": [
    "facility_groups = get_manual_facility_groups()"
   ]
  },
  {
   "cell_type": "code",
   "execution_count": 13,
   "metadata": {
    "_cell_guid": "9185bf0d-57a2-41db-8ff5-cbb97fc5e766",
    "_uuid": "7552bf11-2de8-411d-81d0-00d38e4b2224",
    "collapsed": false,
    "jupyter": {
     "outputs_hidden": false
    },
    "papermill": {
     "duration": 0.223456,
     "end_time": "2022-03-06T01:11:08.159827",
     "exception": false,
     "start_time": "2022-03-06T01:11:07.936371",
     "status": "completed"
    },
    "tags": []
   },
   "outputs": [],
   "source": [
    "train_dfs = split_building_data(train, facility_groups)\n",
    "test_dfs = split_building_data(test, facility_groups)"
   ]
  },
  {
   "cell_type": "markdown",
   "metadata": {
    "_cell_guid": "2b8d7774-b49f-4887-a93b-1c3052c0c073",
    "_uuid": "63994572-b44e-4136-9291-6b475db98b35",
    "papermill": {
     "duration": 0.039151,
     "end_time": "2022-03-06T01:11:08.239381",
     "exception": false,
     "start_time": "2022-03-06T01:11:08.200230",
     "status": "completed"
    },
    "tags": []
   },
   "source": [
    "## 3. 4 Missing Data\n",
    "\n",
    "In this section I simply identify what data is missing in the dataset:\n",
    "\n",
    "- We'll see that features related to fog or wind, have over 50% of the data missing in both the train and test set, and due to this, I don't use these features in my final solution.\n",
    "- We'll also see that there is missing data in energy star rating and year built, which I deal with in the next section of this notebook."
   ]
  },
  {
   "cell_type": "code",
   "execution_count": 14,
   "metadata": {
    "_cell_guid": "dcdaa36a-adf9-4980-870a-2143fa016205",
    "_uuid": "d2e6c343-987e-42ba-86bb-71d1e18b3a0e",
    "collapsed": false,
    "jupyter": {
     "outputs_hidden": false
    },
    "papermill": {
     "duration": 0.086386,
     "end_time": "2022-03-06T01:11:08.365157",
     "exception": false,
     "start_time": "2022-03-06T01:11:08.278771",
     "status": "completed"
    },
    "tags": []
   },
   "outputs": [
    {
     "data": {
      "text/html": [
       "<div>\n",
       "<style scoped>\n",
       "    .dataframe tbody tr th:only-of-type {\n",
       "        vertical-align: middle;\n",
       "    }\n",
       "\n",
       "    .dataframe tbody tr th {\n",
       "        vertical-align: top;\n",
       "    }\n",
       "\n",
       "    .dataframe thead th {\n",
       "        text-align: right;\n",
       "    }\n",
       "</style>\n",
       "<table border=\"1\" class=\"dataframe\">\n",
       "  <thead>\n",
       "    <tr style=\"text-align: right;\">\n",
       "      <th></th>\n",
       "      <th>count</th>\n",
       "      <th>percent</th>\n",
       "    </tr>\n",
       "  </thead>\n",
       "  <tbody>\n",
       "    <tr>\n",
       "      <th>days_with_fog</th>\n",
       "      <td>45783</td>\n",
       "      <td>0.604651</td>\n",
       "    </tr>\n",
       "    <tr>\n",
       "      <th>direction_peak_wind_speed</th>\n",
       "      <td>41798</td>\n",
       "      <td>0.552022</td>\n",
       "    </tr>\n",
       "    <tr>\n",
       "      <th>max_wind_speed</th>\n",
       "      <td>41070</td>\n",
       "      <td>0.542407</td>\n",
       "    </tr>\n",
       "    <tr>\n",
       "      <th>direction_max_wind_speed</th>\n",
       "      <td>41070</td>\n",
       "      <td>0.542407</td>\n",
       "    </tr>\n",
       "    <tr>\n",
       "      <th>energy_star_rating</th>\n",
       "      <td>26682</td>\n",
       "      <td>0.352386</td>\n",
       "    </tr>\n",
       "    <tr>\n",
       "      <th>year_built</th>\n",
       "      <td>1817</td>\n",
       "      <td>0.023997</td>\n",
       "    </tr>\n",
       "  </tbody>\n",
       "</table>\n",
       "</div>"
      ],
      "text/plain": [
       "                           count   percent\n",
       "days_with_fog              45783  0.604651\n",
       "direction_peak_wind_speed  41798  0.552022\n",
       "max_wind_speed             41070  0.542407\n",
       "direction_max_wind_speed   41070  0.542407\n",
       "energy_star_rating         26682  0.352386\n",
       "year_built                  1817  0.023997"
      ]
     },
     "execution_count": 14,
     "metadata": {},
     "output_type": "execute_result"
    }
   ],
   "source": [
    "count_missing(train)"
   ]
  },
  {
   "cell_type": "code",
   "execution_count": 15,
   "metadata": {
    "_cell_guid": "c8fc4e50-0029-42f1-ac72-b4d859f14676",
    "_uuid": "da1204ec-4f14-4c00-9157-d283cc0e9b2c",
    "collapsed": false,
    "jupyter": {
     "outputs_hidden": false
    },
    "papermill": {
     "duration": 0.059441,
     "end_time": "2022-03-06T01:11:08.464478",
     "exception": false,
     "start_time": "2022-03-06T01:11:08.405037",
     "status": "completed"
    },
    "tags": []
   },
   "outputs": [
    {
     "data": {
      "text/html": [
       "<div>\n",
       "<style scoped>\n",
       "    .dataframe tbody tr th:only-of-type {\n",
       "        vertical-align: middle;\n",
       "    }\n",
       "\n",
       "    .dataframe tbody tr th {\n",
       "        vertical-align: top;\n",
       "    }\n",
       "\n",
       "    .dataframe thead th {\n",
       "        text-align: right;\n",
       "    }\n",
       "</style>\n",
       "<table border=\"1\" class=\"dataframe\">\n",
       "  <thead>\n",
       "    <tr style=\"text-align: right;\">\n",
       "      <th></th>\n",
       "      <th>count</th>\n",
       "      <th>percent</th>\n",
       "    </tr>\n",
       "  </thead>\n",
       "  <tbody>\n",
       "    <tr>\n",
       "      <th>days_with_fog</th>\n",
       "      <td>9117</td>\n",
       "      <td>0.939413</td>\n",
       "    </tr>\n",
       "    <tr>\n",
       "      <th>max_wind_speed</th>\n",
       "      <td>8575</td>\n",
       "      <td>0.883565</td>\n",
       "    </tr>\n",
       "    <tr>\n",
       "      <th>direction_peak_wind_speed</th>\n",
       "      <td>8575</td>\n",
       "      <td>0.883565</td>\n",
       "    </tr>\n",
       "    <tr>\n",
       "      <th>direction_max_wind_speed</th>\n",
       "      <td>8575</td>\n",
       "      <td>0.883565</td>\n",
       "    </tr>\n",
       "    <tr>\n",
       "      <th>energy_star_rating</th>\n",
       "      <td>2254</td>\n",
       "      <td>0.232251</td>\n",
       "    </tr>\n",
       "    <tr>\n",
       "      <th>year_built</th>\n",
       "      <td>92</td>\n",
       "      <td>0.009480</td>\n",
       "    </tr>\n",
       "  </tbody>\n",
       "</table>\n",
       "</div>"
      ],
      "text/plain": [
       "                           count   percent\n",
       "days_with_fog               9117  0.939413\n",
       "max_wind_speed              8575  0.883565\n",
       "direction_peak_wind_speed   8575  0.883565\n",
       "direction_max_wind_speed    8575  0.883565\n",
       "energy_star_rating          2254  0.232251\n",
       "year_built                    92  0.009480"
      ]
     },
     "execution_count": 15,
     "metadata": {},
     "output_type": "execute_result"
    }
   ],
   "source": [
    "count_missing(test)"
   ]
  },
  {
   "cell_type": "markdown",
   "metadata": {
    "_cell_guid": "b8ca39e1-169f-427d-89d2-4b5eb6432323",
    "_uuid": "65b3ce9e-5e4d-44df-a103-12aeb0dc88c4",
    "papermill": {
     "duration": 0.04054,
     "end_time": "2022-03-06T01:11:08.545402",
     "exception": false,
     "start_time": "2022-03-06T01:11:08.504862",
     "status": "completed"
    },
    "tags": []
   },
   "source": [
    "## 3.5 Data Imputation\n",
    "\n",
    "In this section, I impute the missing data in the `energy_star_rating` and `year_built` features:\n",
    "- I use Ridge regression to impute the missing values, as I found this gave me the best results in terms of optimizing the final score of my solution.\n",
    "- I also tried using XGBoost and LightGBM models to impute, but these did not do as well.\n",
    "- First, I create a sklearn `ColumnTransformer` which one hot encodes the categorical features I used for imputation, as well as removes features that I do not use for imputation.\n",
    "- Then, I use sklearn's `IterativeImputer` to impute the missing data.\n",
    "- Note that I have abstracted the actual code away into functions, which are included in [Section 2](#Section-2:-Helper-Functions) of this notebook."
   ]
  },
  {
   "cell_type": "code",
   "execution_count": 16,
   "metadata": {
    "_cell_guid": "205fbd64-d65c-4700-b610-03fa5da5eeb0",
    "_uuid": "6156595d-44ac-4f79-82d6-21876e156a00",
    "collapsed": false,
    "jupyter": {
     "outputs_hidden": false
    },
    "papermill": {
     "duration": 0.050731,
     "end_time": "2022-03-06T01:11:08.636495",
     "exception": false,
     "start_time": "2022-03-06T01:11:08.585764",
     "status": "completed"
    },
    "tags": []
   },
   "outputs": [],
   "source": [
    "cat_imp = [\n",
    "    'Year_Factor', 'State_Factor', 'building_class', 'facility_type'\n",
    "]\n",
    "\n",
    "num_imp = [\n",
    "    'floor_area', 'year_built', 'energy_star_rating', 'ELEVATION',\n",
    "    'cooling_degree_days', 'heating_degree_days', 'precipitation_inches',\n",
    "    'snowfall_inches', 'snowdepth_inches', 'avg_temp'\n",
    "]\n",
    "\n",
    "drop_imp = [\n",
    "    'january_min_temp', 'january_avg_temp', 'january_max_temp',\n",
    "    'february_min_temp', 'february_avg_temp', 'february_max_temp',\n",
    "    'march_min_temp', 'march_avg_temp', 'march_max_temp', 'april_min_temp',\n",
    "    'april_avg_temp', 'april_max_temp', 'may_min_temp', 'may_avg_temp',\n",
    "    'may_max_temp', 'june_min_temp', 'june_avg_temp', 'june_max_temp',\n",
    "    'july_min_temp', 'july_avg_temp', 'july_max_temp', 'august_min_temp',\n",
    "    'august_avg_temp', 'august_max_temp', 'september_min_temp',\n",
    "    'september_avg_temp', 'september_max_temp', 'october_min_temp',\n",
    "    'october_avg_temp', 'october_max_temp', 'november_min_temp',\n",
    "    'november_avg_temp', 'november_max_temp', 'december_min_temp',\n",
    "    'december_avg_temp', 'december_max_temp', 'days_below_30F', 'days_below_20F',\n",
    "    'days_below_10F', 'days_below_0F', 'days_above_80F', 'days_above_90F',\n",
    "    'days_above_100F', 'days_above_110F', 'direction_max_wind_speed',\n",
    "    'direction_peak_wind_speed', 'max_wind_speed', 'days_with_fog',\n",
    "    'id'\n",
    "]"
   ]
  },
  {
   "cell_type": "code",
   "execution_count": 17,
   "metadata": {
    "_cell_guid": "d63e8234-0703-4f93-a2cd-c54004244c89",
    "_uuid": "ab807d7f-1d02-4ca2-9cde-428c916f13ca",
    "collapsed": false,
    "jupyter": {
     "outputs_hidden": false
    },
    "papermill": {
     "duration": 2.174006,
     "end_time": "2022-03-06T01:11:10.850708",
     "exception": false,
     "start_time": "2022-03-06T01:11:08.676702",
     "status": "completed"
    },
    "tags": []
   },
   "outputs": [
    {
     "name": "stderr",
     "output_type": "stream",
     "text": [
      "C:\\Users\\Vedanth\\anaconda3\\lib\\site-packages\\sklearn\\utils\\deprecation.py:87: FutureWarning: Function get_feature_names is deprecated; get_feature_names is deprecated in 1.0 and will be removed in 1.2. Please use get_feature_names_out instead.\n",
      "  warnings.warn(msg, category=FutureWarning)\n",
      "C:\\Users\\Vedanth\\anaconda3\\lib\\site-packages\\sklearn\\utils\\deprecation.py:87: FutureWarning: Function get_feature_names is deprecated; get_feature_names is deprecated in 1.0 and will be removed in 1.2. Please use get_feature_names_out instead.\n",
      "  warnings.warn(msg, category=FutureWarning)\n",
      "C:\\Users\\Vedanth\\anaconda3\\lib\\site-packages\\sklearn\\utils\\deprecation.py:87: FutureWarning: Function get_feature_names is deprecated; get_feature_names is deprecated in 1.0 and will be removed in 1.2. Please use get_feature_names_out instead.\n",
      "  warnings.warn(msg, category=FutureWarning)\n",
      "C:\\Users\\Vedanth\\anaconda3\\lib\\site-packages\\sklearn\\utils\\deprecation.py:87: FutureWarning: Function get_feature_names is deprecated; get_feature_names is deprecated in 1.0 and will be removed in 1.2. Please use get_feature_names_out instead.\n",
      "  warnings.warn(msg, category=FutureWarning)\n",
      "C:\\Users\\Vedanth\\anaconda3\\lib\\site-packages\\sklearn\\utils\\deprecation.py:87: FutureWarning: Function get_feature_names is deprecated; get_feature_names is deprecated in 1.0 and will be removed in 1.2. Please use get_feature_names_out instead.\n",
      "  warnings.warn(msg, category=FutureWarning)\n",
      "C:\\Users\\Vedanth\\anaconda3\\lib\\site-packages\\sklearn\\utils\\deprecation.py:87: FutureWarning: Function get_feature_names is deprecated; get_feature_names is deprecated in 1.0 and will be removed in 1.2. Please use get_feature_names_out instead.\n",
      "  warnings.warn(msg, category=FutureWarning)\n",
      "C:\\Users\\Vedanth\\anaconda3\\lib\\site-packages\\sklearn\\utils\\deprecation.py:87: FutureWarning: Function get_feature_names is deprecated; get_feature_names is deprecated in 1.0 and will be removed in 1.2. Please use get_feature_names_out instead.\n",
      "  warnings.warn(msg, category=FutureWarning)\n",
      "C:\\Users\\Vedanth\\anaconda3\\lib\\site-packages\\sklearn\\utils\\deprecation.py:87: FutureWarning: Function get_feature_names is deprecated; get_feature_names is deprecated in 1.0 and will be removed in 1.2. Please use get_feature_names_out instead.\n",
      "  warnings.warn(msg, category=FutureWarning)\n",
      "C:\\Users\\Vedanth\\anaconda3\\lib\\site-packages\\sklearn\\utils\\deprecation.py:87: FutureWarning: Function get_feature_names is deprecated; get_feature_names is deprecated in 1.0 and will be removed in 1.2. Please use get_feature_names_out instead.\n",
      "  warnings.warn(msg, category=FutureWarning)\n",
      "C:\\Users\\Vedanth\\anaconda3\\lib\\site-packages\\sklearn\\utils\\deprecation.py:87: FutureWarning: Function get_feature_names is deprecated; get_feature_names is deprecated in 1.0 and will be removed in 1.2. Please use get_feature_names_out instead.\n",
      "  warnings.warn(msg, category=FutureWarning)\n",
      "C:\\Users\\Vedanth\\anaconda3\\lib\\site-packages\\sklearn\\utils\\deprecation.py:87: FutureWarning: Function get_feature_names is deprecated; get_feature_names is deprecated in 1.0 and will be removed in 1.2. Please use get_feature_names_out instead.\n",
      "  warnings.warn(msg, category=FutureWarning)\n",
      "C:\\Users\\Vedanth\\anaconda3\\lib\\site-packages\\sklearn\\utils\\deprecation.py:87: FutureWarning: Function get_feature_names is deprecated; get_feature_names is deprecated in 1.0 and will be removed in 1.2. Please use get_feature_names_out instead.\n",
      "  warnings.warn(msg, category=FutureWarning)\n"
     ]
    }
   ],
   "source": [
    "model = Ridge()\n",
    "replace = [\"energy_star_rating\", \"year_built\"]\n",
    "\n",
    "ct_imp = make_column_transformer(\n",
    "    (OneHotEncoder(handle_unknown=\"ignore\", sparse=False), cat_imp),\n",
    "    (\"passthrough\", num_imp),\n",
    "    (\"drop\", drop_imp)\n",
    ")\n",
    "\n",
    "train_dfs, test_dfs = impute_and_replace(\n",
    "    train_dfs, test_dfs, model, ct_imp, TARGET, num_imp, replace, SEED\n",
    ")"
   ]
  },
  {
   "cell_type": "markdown",
   "metadata": {
    "_cell_guid": "3182c26e-df53-41cf-a4bb-c91ae1a91dce",
    "_uuid": "dc5f3533-59af-4a7c-8b3f-c7078f520490",
    "papermill": {
     "duration": 0.04862,
     "end_time": "2022-03-06T01:11:10.980147",
     "exception": false,
     "start_time": "2022-03-06T01:11:10.931527",
     "status": "completed"
    },
    "tags": []
   },
   "source": [
    "# Section 4: Feature Engineering\n",
    "\n",
    "In this section I perform feature engineering and add many features to the data:\n",
    "- I've abstracted all the code away into functions, please see [Section 2](#Section-2:-Helper-Functions) of this notebook for the actual code.\n",
    "- In total, I engineer 28 new features, for which the names of each are included below.\n",
    "- `median_facility_floor_site_eui`, `median_facility_year_site_eui`, and `median_facility_floor_year_site_eui` were the most powerful features for prediction.\n",
    "- These features worked by concatenating a combination of the features `facility_type`, `floor_area`, and/or `year_built`, and then encoding them with a grouped median value of the target `site_eui`\n",
    "- I thought that this would cause data leakage, since we are encoding the target variable as a feature (and in a sense, just identifying exact buildings in the dataset and using past `site_eui` to predict future `site_eui`, but in the end these three features were the most powerful in my entire notebook.\n",
    "- This would suggest that a buildings prior site energy usage reading can be used as a key predictor in predicting it's future energy usage (similar to pure time series data)."
   ]
  },
  {
   "cell_type": "code",
   "execution_count": 18,
   "metadata": {
    "_cell_guid": "537d3b54-5216-43f1-9aec-b79e72263d63",
    "_uuid": "c3ac298f-f9e1-4eae-9202-3aca72a1d984",
    "collapsed": false,
    "jupyter": {
     "outputs_hidden": false
    },
    "papermill": {
     "duration": 1.773231,
     "end_time": "2022-03-06T01:11:12.794265",
     "exception": false,
     "start_time": "2022-03-06T01:11:11.021034",
     "status": "completed"
    },
    "tags": []
   },
   "outputs": [],
   "source": [
    "train_dfs_eng, test_dfs_eng = feature_engineer_multiple(train_dfs, test_dfs)"
   ]
  },
  {
   "cell_type": "code",
   "execution_count": 19,
   "metadata": {
    "_cell_guid": "cbf8b6c4-8309-463f-9674-d11d9917c24f",
    "_kg_hide-input": true,
    "_uuid": "64f13fbe-34fa-41f9-838a-60fab7f04452",
    "collapsed": false,
    "jupyter": {
     "outputs_hidden": false
    },
    "papermill": {
     "duration": 0.05277,
     "end_time": "2022-03-06T01:11:12.888048",
     "exception": false,
     "start_time": "2022-03-06T01:11:12.835278",
     "status": "completed"
    },
    "tags": []
   },
   "outputs": [
    {
     "name": "stdout",
     "output_type": "stream",
     "text": [
      "New Features:\n",
      "-----------------------------------------------------------\n",
      "New Feature 1: has_fog_detector\n",
      "New Feature 2: has_wind_detector\n",
      "New Feature 3: freezing_days\n",
      "New Feature 4: cold_days\n",
      "New Feature 5: warm_days\n",
      "New Feature 6: hot_days\n",
      "New Feature 7: winter_avg_temp\n",
      "New Feature 8: spring_avg_temp\n",
      "New Feature 9: summer_avg_temp\n",
      "New Feature 10: autumn_avg_temp\n",
      "New Feature 11: mean_energy_star_rating\n",
      "New Feature 12: mean_floor_area\n",
      "New Feature 13: mean_ELEVATION\n",
      "New Feature 14: e_star_better_than_mean\n",
      "New Feature 15: snow_rain_inches\n",
      "New Feature 16: degree_days\n",
      "New Feature 17: e_star_floor_area\n",
      "New Feature 18: e_star_elevation\n",
      "New Feature 19: e_star_year_built\n",
      "New Feature 20: cooling_e_star\n",
      "New Feature 21: heating_e_star\n",
      "New Feature 22: floor_area_year_built\n",
      "New Feature 23: facility_floor\n",
      "New Feature 24: facility_year\n",
      "New Feature 25: facility_floor_year\n",
      "New Feature 26: median_facility_floor_site_eui\n",
      "New Feature 27: median_facility_year_site_eui\n",
      "New Feature 28: median_facility_floor_year_site_eui\n"
     ]
    }
   ],
   "source": [
    "print(\"New Features:\")\n",
    "print(\"-----------------------------------------------------------\")\n",
    "for i, j in enumerate(train_dfs_eng['2to4_5plus_Mixed'].columns[64:]):\n",
    "    print(f\"New Feature {i+1}: {j}\")"
   ]
  },
  {
   "cell_type": "markdown",
   "metadata": {
    "_cell_guid": "2ef1dfb3-efd5-43f0-8128-a41236e6d0c5",
    "_uuid": "24d3b9b5-df49-45b6-85e9-b60cb2306422",
    "papermill": {
     "duration": 0.044708,
     "end_time": "2022-03-06T01:11:12.978938",
     "exception": false,
     "start_time": "2022-03-06T01:11:12.934230",
     "status": "completed"
    },
    "tags": []
   },
   "source": [
    "# Section 5: Modelling\n",
    "\n",
    "This section is where I trained my initial machine learning models."
   ]
  },
  {
   "cell_type": "markdown",
   "metadata": {
    "_cell_guid": "bd55a054-57de-4dc6-8c4b-b9db6f3a77fa",
    "_uuid": "aa98b132-c5c6-4547-96cc-136e6593baa6",
    "papermill": {
     "duration": 0.040415,
     "end_time": "2022-03-06T01:11:13.064804",
     "exception": false,
     "start_time": "2022-03-06T01:11:13.024389",
     "status": "completed"
    },
    "tags": []
   },
   "source": [
    "## 5.1 Create X and y Datasets\n",
    "\n",
    "Here I create the `X_train`, `y_train`, and `X_test` for each of the twelve datasets.  I also create the groups needed for leave one group one cross validation."
   ]
  },
  {
   "cell_type": "code",
   "execution_count": 20,
   "metadata": {
    "_cell_guid": "e0e7cdc8-616d-42ae-a3f6-49fde60eeae5",
    "_uuid": "816d830b-3d78-4a69-adfd-eed07e035159",
    "collapsed": false,
    "jupyter": {
     "outputs_hidden": false
    },
    "papermill": {
     "duration": 0.086742,
     "end_time": "2022-03-06T01:11:13.192329",
     "exception": false,
     "start_time": "2022-03-06T01:11:13.105587",
     "status": "completed"
    },
    "tags": []
   },
   "outputs": [],
   "source": [
    "X_trains, y_trains, groups = create_X_y(train_dfs_eng, TARGET, \"Year_Factor\")\n",
    "X_tests = test_dfs_eng.copy()"
   ]
  },
  {
   "cell_type": "markdown",
   "metadata": {
    "_cell_guid": "86961dc2-6101-4915-b441-82e6f1700f2c",
    "_uuid": "192f8390-248c-4309-9e43-f09f59d8240d",
    "papermill": {
     "duration": 0.040813,
     "end_time": "2022-03-06T01:11:13.274206",
     "exception": false,
     "start_time": "2022-03-06T01:11:13.233393",
     "status": "completed"
    },
    "tags": []
   },
   "source": [
    "## 5.2 Column Transformer\n",
    "\n",
    "A few things to note on the final column transformer:\n",
    "- You'll notice only a subset of features are used in the final model, and the majority of features are actually dropped.\n",
    "- There were no categorical features used in my final solution.\n",
    "- All features were numeric, and the only further preprocessing was to standardize them (not required for tree based learning, but can slightly improve performance)."
   ]
  },
  {
   "cell_type": "code",
   "execution_count": 21,
   "metadata": {
    "_cell_guid": "104d930a-0ded-4f88-8252-7802d07a14ed",
    "_uuid": "7f8327ba-af08-46a2-ab93-49d1d519c607",
    "collapsed": false,
    "jupyter": {
     "outputs_hidden": false
    },
    "papermill": {
     "duration": 0.053927,
     "end_time": "2022-03-06T01:11:13.369208",
     "exception": false,
     "start_time": "2022-03-06T01:11:13.315281",
     "status": "completed"
    },
    "tags": []
   },
   "outputs": [],
   "source": [
    "num = [\n",
    "    'year_built', 'energy_star_rating', 'ELEVATION', 'floor_area',\n",
    "    'cooling_degree_days', 'heating_degree_days', 'precipitation_inches',\n",
    "    'snowdepth_inches', 'e_star_floor_area', 'e_star_elevation', \n",
    "    'e_star_year_built', 'cooling_e_star', 'heating_e_star', 'floor_area_year_built',\n",
    "    'median_facility_floor_site_eui', 'median_facility_floor_year_site_eui',\n",
    "    'median_facility_year_site_eui'\n",
    "]\n",
    "\n",
    "passthrough = [\n",
    "    'has_fog_detector', 'has_wind_detector', \n",
    "]\n",
    "\n",
    "drop = [\n",
    "    'Year_Factor', 'State_Factor', 'january_min_temp', 'january_avg_temp', 'january_max_temp',\n",
    "    'february_min_temp', 'february_avg_temp', 'february_max_temp',\n",
    "    'march_min_temp', 'march_avg_temp', 'march_max_temp', 'april_min_temp',\n",
    "    'april_avg_temp', 'april_max_temp', 'may_min_temp', 'may_avg_temp',\n",
    "    'may_max_temp', 'june_min_temp', 'june_avg_temp', 'june_max_temp',\n",
    "    'july_min_temp', 'july_avg_temp', 'july_max_temp', 'august_min_temp',\n",
    "    'august_avg_temp', 'august_max_temp', 'september_min_temp',\n",
    "    'september_avg_temp', 'september_max_temp', 'october_min_temp',\n",
    "    'october_avg_temp', 'october_max_temp', 'november_min_temp',\n",
    "    'november_avg_temp', 'november_max_temp', 'december_min_temp',\n",
    "    'december_avg_temp', 'december_max_temp',  'direction_max_wind_speed',\n",
    "    'direction_peak_wind_speed', 'max_wind_speed', 'days_with_fog',\n",
    "    'id', 'days_below_30F', 'days_below_20F', 'days_below_10F', 'days_below_0F', \n",
    "    'days_above_80F', 'days_above_90F', 'days_above_100F', 'days_above_110F', 'State_Factor', 'avg_temp',\n",
    "    'facility_floor', 'facility_floor_year', 'facility_year','snowfall_inches',\n",
    "    'freezing_days', 'cold_days', 'warm_days', 'hot_days', 'winter_avg_temp',\n",
    "    'spring_avg_temp', 'summer_avg_temp', 'autumn_avg_temp',\n",
    "    'mean_energy_star_rating', 'mean_floor_area', 'mean_ELEVATION', 'e_star_better_than_mean',\n",
    "    'snow_rain_inches', 'degree_days', 'building_class', 'facility_type'\n",
    "]\n",
    "\n",
    "assert set(num + passthrough + drop) == set(X_trains[list(X_trains.keys())[0]].columns)"
   ]
  },
  {
   "cell_type": "code",
   "execution_count": 22,
   "metadata": {
    "_cell_guid": "a94bf47a-2864-4140-8537-12f97fb13b0e",
    "_uuid": "7d8cf7e3-d14c-490b-aedb-9840079d9483",
    "collapsed": false,
    "jupyter": {
     "outputs_hidden": false
    },
    "papermill": {
     "duration": 0.076022,
     "end_time": "2022-03-06T01:11:13.486556",
     "exception": false,
     "start_time": "2022-03-06T01:11:13.410534",
     "status": "completed"
    },
    "tags": []
   },
   "outputs": [],
   "source": [
    "ct = make_column_transformer(\n",
    "    (StandardScaler(), num),\n",
    "    (\"passthrough\", passthrough),\n",
    "    (\"drop\", drop),\n",
    ")"
   ]
  },
  {
   "cell_type": "markdown",
   "metadata": {
    "_cell_guid": "ef7d8139-3e55-4cf8-ac5d-4f545b41a7c7",
    "_uuid": "909fe3b7-5b3c-4b64-b8b1-4fe2b2d3b9ce",
    "papermill": {
     "duration": 0.066185,
     "end_time": "2022-03-06T01:11:13.630992",
     "exception": false,
     "start_time": "2022-03-06T01:11:13.564807",
     "status": "completed"
    },
    "tags": []
   },
   "source": [
    "## 5.3 Cross Validation\n",
    "\n",
    "In this section, I perform cross validation.  A few notes:\n",
    "- In the interest of speed, I used an out of the box light GBM regressor to perform five fold leave one group out cross validation (\"LOGO cv\").\n",
    "- I performed LOGO cv based on the `year_factor` column in the dataset - in other words I trained and predicted on separate year groups, for example one fold would train on years 1 to 5, then predict on 6.\n",
    "- I did this since the test dataset only included buildings from year 7, so I was trying to emulate this in cross validation by leaving one year out.  In a perfect world with more time, I would have also tried a fancier time series cross validation method.\n",
    "- The mean cross validation scores for each grouped dataset are included below, we can see that for some groups, the train and validation scores are quite good, except for a few, namely `Food_Grocery`, `Health`, and `Laboratory_Data`."
   ]
  },
  {
   "cell_type": "code",
   "execution_count": 23,
   "metadata": {
    "_cell_guid": "47270eb0-ebb4-48f6-b006-839552353e8a",
    "_uuid": "52d9f969-d1fa-46f8-a33e-b04298859cca",
    "collapsed": false,
    "jupyter": {
     "outputs_hidden": false
    },
    "papermill": {
     "duration": 7.729382,
     "end_time": "2022-03-06T01:11:21.431563",
     "exception": false,
     "start_time": "2022-03-06T01:11:13.702181",
     "status": "completed"
    },
    "tags": []
   },
   "outputs": [],
   "source": [
    "model = lgb.LGBMRegressor(force_row_wise=True, random_state=SEED)\n",
    "results, models = logo_cv_lgb_all(model, X_trains, y_trains, groups, ct, 5, other_names=num+passthrough)\n",
    "results_df = process_cv_results(results)"
   ]
  },
  {
   "cell_type": "code",
   "execution_count": 24,
   "metadata": {
    "_cell_guid": "525435b2-9cf4-4463-ac42-67321a9c6b60",
    "_kg_hide-input": true,
    "_uuid": "9a8f410b-71a8-462d-badb-82ad14871cb2",
    "collapsed": false,
    "jupyter": {
     "outputs_hidden": false
    },
    "papermill": {
     "duration": 0.060327,
     "end_time": "2022-03-06T01:11:21.532985",
     "exception": false,
     "start_time": "2022-03-06T01:11:21.472658",
     "status": "completed"
    },
    "tags": []
   },
   "outputs": [
    {
     "name": "stdout",
     "output_type": "stream",
     "text": [
      "Mean Cross Validation Scores:\n"
     ]
    },
    {
     "data": {
      "text/html": [
       "<div>\n",
       "<style scoped>\n",
       "    .dataframe tbody tr th:only-of-type {\n",
       "        vertical-align: middle;\n",
       "    }\n",
       "\n",
       "    .dataframe tbody tr th {\n",
       "        vertical-align: top;\n",
       "    }\n",
       "\n",
       "    .dataframe thead th {\n",
       "        text-align: right;\n",
       "    }\n",
       "</style>\n",
       "<table border=\"1\" class=\"dataframe\">\n",
       "  <thead>\n",
       "    <tr style=\"text-align: right;\">\n",
       "      <th></th>\n",
       "      <th>facility_group</th>\n",
       "      <th>Train_RMSE</th>\n",
       "      <th>Val_RMSE</th>\n",
       "      <th>RMSE_spread</th>\n",
       "    </tr>\n",
       "  </thead>\n",
       "  <tbody>\n",
       "    <tr>\n",
       "      <th>4</th>\n",
       "      <td>2to4_5plus_Mixed</td>\n",
       "      <td>2.345311</td>\n",
       "      <td>4.576989</td>\n",
       "      <td>-2.231678</td>\n",
       "    </tr>\n",
       "    <tr>\n",
       "      <th>6</th>\n",
       "      <td>Commercial_Education_Mixed_Industrial_Parking</td>\n",
       "      <td>14.240220</td>\n",
       "      <td>22.232415</td>\n",
       "      <td>-7.992195</td>\n",
       "    </tr>\n",
       "    <tr>\n",
       "      <th>6</th>\n",
       "      <td>Food_Grocery</td>\n",
       "      <td>33.524457</td>\n",
       "      <td>53.424116</td>\n",
       "      <td>-19.899659</td>\n",
       "    </tr>\n",
       "    <tr>\n",
       "      <th>6</th>\n",
       "      <td>Health</td>\n",
       "      <td>44.794582</td>\n",
       "      <td>59.557944</td>\n",
       "      <td>-14.763362</td>\n",
       "    </tr>\n",
       "    <tr>\n",
       "      <th>6</th>\n",
       "      <td>Laboratory_Data</td>\n",
       "      <td>60.847350</td>\n",
       "      <td>64.118377</td>\n",
       "      <td>-3.271027</td>\n",
       "    </tr>\n",
       "    <tr>\n",
       "      <th>6</th>\n",
       "      <td>Lodging</td>\n",
       "      <td>19.038378</td>\n",
       "      <td>25.012244</td>\n",
       "      <td>-5.973866</td>\n",
       "    </tr>\n",
       "    <tr>\n",
       "      <th>6</th>\n",
       "      <td>Multifamily</td>\n",
       "      <td>16.144048</td>\n",
       "      <td>19.759498</td>\n",
       "      <td>-3.615449</td>\n",
       "    </tr>\n",
       "    <tr>\n",
       "      <th>6</th>\n",
       "      <td>Office_Nursing</td>\n",
       "      <td>13.963483</td>\n",
       "      <td>17.183356</td>\n",
       "      <td>-3.219872</td>\n",
       "    </tr>\n",
       "    <tr>\n",
       "      <th>6</th>\n",
       "      <td>Public</td>\n",
       "      <td>14.079825</td>\n",
       "      <td>17.269822</td>\n",
       "      <td>-3.189998</td>\n",
       "    </tr>\n",
       "    <tr>\n",
       "      <th>6</th>\n",
       "      <td>Religious</td>\n",
       "      <td>7.222921</td>\n",
       "      <td>10.202259</td>\n",
       "      <td>-2.979338</td>\n",
       "    </tr>\n",
       "    <tr>\n",
       "      <th>6</th>\n",
       "      <td>Retail</td>\n",
       "      <td>25.608983</td>\n",
       "      <td>31.288335</td>\n",
       "      <td>-5.679353</td>\n",
       "    </tr>\n",
       "    <tr>\n",
       "      <th>6</th>\n",
       "      <td>Warehouse_Service</td>\n",
       "      <td>13.554376</td>\n",
       "      <td>15.208817</td>\n",
       "      <td>-1.654440</td>\n",
       "    </tr>\n",
       "  </tbody>\n",
       "</table>\n",
       "</div>"
      ],
      "text/plain": [
       "                                  facility_group  Train_RMSE   Val_RMSE  \\\n",
       "4                               2to4_5plus_Mixed    2.345311   4.576989   \n",
       "6  Commercial_Education_Mixed_Industrial_Parking   14.240220  22.232415   \n",
       "6                                   Food_Grocery   33.524457  53.424116   \n",
       "6                                         Health   44.794582  59.557944   \n",
       "6                                Laboratory_Data   60.847350  64.118377   \n",
       "6                                        Lodging   19.038378  25.012244   \n",
       "6                                    Multifamily   16.144048  19.759498   \n",
       "6                                 Office_Nursing   13.963483  17.183356   \n",
       "6                                         Public   14.079825  17.269822   \n",
       "6                                      Religious    7.222921  10.202259   \n",
       "6                                         Retail   25.608983  31.288335   \n",
       "6                              Warehouse_Service   13.554376  15.208817   \n",
       "\n",
       "   RMSE_spread  \n",
       "4    -2.231678  \n",
       "6    -7.992195  \n",
       "6   -19.899659  \n",
       "6   -14.763362  \n",
       "6    -3.271027  \n",
       "6    -5.973866  \n",
       "6    -3.615449  \n",
       "6    -3.219872  \n",
       "6    -3.189998  \n",
       "6    -2.979338  \n",
       "6    -5.679353  \n",
       "6    -1.654440  "
      ]
     },
     "execution_count": 24,
     "metadata": {},
     "output_type": "execute_result"
    }
   ],
   "source": [
    "print(\"Mean Cross Validation Scores:\")\n",
    "pd.concat(\n",
    "    [\n",
    "        results_df[results_df[\"Fold\"] == \"MEAN\"][\"facility_group\"],\n",
    "        results_df[results_df[\"Fold\"] == \"MEAN\"].loc[:, \"Train_RMSE\": ]\n",
    "    ],\n",
    "    axis=1\n",
    ")"
   ]
  },
  {
   "cell_type": "markdown",
   "metadata": {
    "_cell_guid": "da2377b6-d37e-4422-b474-1bd7cdc3ae52",
    "_uuid": "5be8ce63-9282-4f4e-9270-f7c6fbb097bb",
    "papermill": {
     "duration": 0.041554,
     "end_time": "2022-03-06T01:11:21.616099",
     "exception": false,
     "start_time": "2022-03-06T01:11:21.574545",
     "status": "completed"
    },
    "tags": []
   },
   "source": [
    "## 5.4 Feature Importance\n",
    "\n",
    "In this section:\n",
    "- I plot the feature importance graphs from the lightGBM regressor models.\n",
    "- I only include an example for the four `2to4_5plus_Mixed` models that resulted from the cross validation process, otherwise there would be too many plots to look at in this notebook.\n",
    "- We'll see that in each fold the grouped median features and interaction features with `energy_star_rating` are the most important"
   ]
  },
  {
   "cell_type": "code",
   "execution_count": 25,
   "metadata": {
    "_cell_guid": "1855f702-423a-41f8-8ed7-aae4c16ce737",
    "_kg_hide-input": true,
    "_uuid": "2fc23a3c-6039-4724-a8bb-f35d7241466a",
    "collapsed": false,
    "jupyter": {
     "outputs_hidden": false
    },
    "papermill": {
     "duration": 1.70818,
     "end_time": "2022-03-06T01:11:23.365560",
     "exception": false,
     "start_time": "2022-03-06T01:11:21.657380",
     "status": "completed"
    },
    "tags": []
   },
   "outputs": [
    {
     "data": {
      "image/png": "[encoded data removed]",
      "text/plain": [
       "<Figure size 1080x720 with 4 Axes>"
      ]
     },
     "metadata": {
      "needs_background": "light"
     },
     "output_type": "display_data"
    }
   ],
   "source": [
    "fig, axes = plt.subplots(2, 2, figsize=(15, 10))\n",
    "\n",
    "for n, (i, ax) in enumerate(zip(range(len(models[\"2to4_5plus_Mixed\"])), axes.ravel())):\n",
    "    lgb.plot_importance(models[\"2to4_5plus_Mixed\"][i], figsize=(5, 5), height=0.5, max_num_features=20, ax=ax);\n",
    "    ax.set_title(f\"Model {n+1}\")\n",
    "\n",
    "fig.suptitle(\"2to4_5plus_Mixed CV LightGBM Model Feature Importances\", fontsize=20)\n",
    "plt.tight_layout()"
   ]
  },
  {
   "cell_type": "markdown",
   "metadata": {
    "_cell_guid": "9ce44014-206f-4bb3-a3e1-d2e3caf30df1",
    "_uuid": "84e36d70-1f2f-4661-ba30-ad37bdba5eff",
    "papermill": {
     "duration": 0.044422,
     "end_time": "2022-03-06T01:11:23.457958",
     "exception": false,
     "start_time": "2022-03-06T01:11:23.413536",
     "status": "completed"
    },
    "tags": []
   },
   "source": [
    "# Section 6: Final models and predictions\n",
    "\n",
    "This section contains my final ML models and their resulting predictions:\n",
    "\n",
    "- The final model I used was an ensemble of XGB, lightGBM, and CatBoost regressors.\n",
    "- You will need to use a GPU to run this section of the notebook, or, comment out the GPU code lines (although this will take a long time if you only use a CPU).\n",
    "- If you re-run this notebook multiple times, the predictions are a bit unstable after the 4th decimal point, I'm not 100% sure why this is since the random seeds are set (if anyone does know, please feel free to comment and let me know why)."
   ]
  },
  {
   "cell_type": "code",
   "execution_count": 28,
   "metadata": {
    "_cell_guid": "0798bd2f-da73-45c2-8dfa-cb6058886aad",
    "_uuid": "40e86baa-13ab-4a64-8f3d-bf11a793b5e4",
    "collapsed": false,
    "jupyter": {
     "outputs_hidden": false
    },
    "papermill": {
     "duration": 0.058203,
     "end_time": "2022-03-06T01:11:23.561779",
     "exception": false,
     "start_time": "2022-03-06T01:11:23.503576",
     "status": "completed"
    },
    "tags": []
   },
   "outputs": [],
   "source": [
    "regressor = VotingRegressor([\n",
    "    (\n",
    "        \"xgb\", \n",
    "        xgb.XGBRegressor(\n",
    "            n_estimators=1000,\n",
    "            max_depth=8,\n",
    "            learning_rate=0.15,\n",
    "            verbosity=0,\n",
    "            tree_method=\"gpu_hist\",\n",
    "            random_state=SEED,\n",
    "        )\n",
    "    ),\n",
    "    (\n",
    "        \"lgb\",\n",
    "        lgb.LGBMRegressor(\n",
    "            force_row_wise=True,\n",
    "            max_depth=8,\n",
    "            learning_rate=0.15,\n",
    "            n_estimators=1000,\n",
    "            num_leaves=256,\n",
    "            device=\"gpu\",\n",
    "            random_state=SEED\n",
    "        )\n",
    "    ),\n",
    "    (\n",
    "        \"cb\",\n",
    "        cb.CatBoostRegressor(\n",
    "            n_estimators=1000,\n",
    "            learning_rate=0.15,\n",
    "            max_depth=8,\n",
    "            verbose=False,\n",
    "            random_seed=SEED,\n",
    "            task_type=\"GPU\"\n",
    "        )\n",
    "    )\n",
    "])"
   ]
  },
  {
   "cell_type": "code",
   "execution_count": 31,
   "metadata": {
    "_cell_guid": "729f58c4-cd2f-480b-97f8-fab4a95c97e1",
    "_uuid": "a30b072b-8099-4cb1-b9d0-ed6da0f6e41b",
    "collapsed": false,
    "jupyter": {
     "outputs_hidden": false
    },
    "papermill": {
     "duration": 402.802446,
     "end_time": "2022-03-06T01:18:06.408787",
     "exception": false,
     "start_time": "2022-03-06T01:11:23.606341",
     "status": "completed"
    },
    "tags": []
   },
   "outputs": [],
   "source": [
    "predictions = train_and_predict(regressor, X_trains, y_trains, X_tests, ct, TARGET)\n",
    "assert sum(predictions.isna().sum()) == 0"
   ]
  },
  {
   "cell_type": "code",
   "execution_count": null,
   "metadata": {},
   "outputs": [],
   "source": []
  }
 ],
 "metadata": {
  "kernelspec": {
   "display_name": "Python 3",
   "language": "python",
   "name": "python3"
  },
  "language_info": {
   "codemirror_mode": {
    "name": "ipython",
    "version": 3
   },
   "file_extension": ".py",
   "mimetype": "text/x-python",
   "name": "python",
   "nbconvert_exporter": "python",
   "pygments_lexer": "ipython3",
   "version": "3.8.3"
  },
  "papermill": {
   "default_parameters": {},
   "duration": 436.570126,
   "end_time": "2022-03-06T01:18:09.334343",
   "environment_variables": {},
   "exception": null,
   "input_path": "__notebook__.ipynb",
   "output_path": "__notebook__.ipynb",
   "parameters": {},
   "start_time": "2022-03-06T01:10:52.764217",
   "version": "2.3.3"
  }
 },
 "nbformat": 4,
 "nbformat_minor": 5
}
